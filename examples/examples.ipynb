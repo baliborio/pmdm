{
 "cells": [
  {
   "cell_type": "markdown",
   "metadata": {},
   "source": [
    "# Installation"
   ]
  },
  {
   "cell_type": "code",
   "execution_count": null,
   "metadata": {},
   "outputs": [],
   "source": [
    "!pip install requests"
   ]
  },
  {
   "cell_type": "markdown",
   "metadata": {},
   "source": [
    "# Imports"
   ]
  },
  {
   "cell_type": "code",
   "execution_count": 1,
   "metadata": {},
   "outputs": [],
   "source": [
    "import requests"
   ]
  },
  {
   "cell_type": "markdown",
   "metadata": {},
   "source": [
    "# Classifying text"
   ]
  },
  {
   "cell_type": "code",
   "execution_count": 2,
   "metadata": {
    "scrolled": true
   },
   "outputs": [
    {
     "data": {
      "text/plain": [
       "{'tweet': 'this is an example',\n",
       " 'tweet_': 'this is an example',\n",
       " 'score': 0.508739173412323,\n",
       " 'label': 'no_evidence',\n",
       " 'value': False,\n",
       " 'elapsed_time': '0.0456 segs'}"
      ]
     },
     "execution_count": 2,
     "metadata": {},
     "output_type": "execute_result"
    }
   ],
   "source": [
    "url = 'https://turing.iimas.unam.mx/pmdm/api/classify'\n",
    "\n",
    "headers = {'access-token': '9e7bbb18-7581-4152-ad41-859d0683670c'}\n",
    "\n",
    "tweet = {'tweet': 'this is an example'}\n",
    "\n",
    "response = requests.post(url, headers=headers, json=tweet)\n",
    "\n",
    "response.json()"
   ]
  },
  {
   "cell_type": "markdown",
   "metadata": {},
   "source": [
    "# Arrange tweet arguments"
   ]
  },
  {
   "cell_type": "code",
   "execution_count": 3,
   "metadata": {},
   "outputs": [
    {
     "data": {
      "text/plain": [
       "{'tweet': '@user1 @user2 @user3 Olha a feminazi raivosa... 🤣',\n",
       " 'tweet_': '$MENTION$ $MENTION$ $MENTION$ Olha a feminazi raivosa... :rolling_on_the_floor_laughing:',\n",
       " 'score': 0.9964619278907776,\n",
       " 'label': 'misogynistic',\n",
       " 'value': True,\n",
       " 'elapsed_time': '0.0725 segs'}"
      ]
     },
     "execution_count": 3,
     "metadata": {},
     "output_type": "execute_result"
    }
   ],
   "source": [
    "# Portuguese example\n",
    "tweet = {\n",
    "  'tweet': '@user1 @user2 @user3 Olha a feminazi raivosa... 🤣',\n",
    "  'use_lower': 'false',\n",
    "  'demojize': 'true',\n",
    "  'process_urls': 'true',\n",
    "  'process_mentions': 'true',\n",
    "  'process_hashtags': 'true',\n",
    "  'process_emojis': 'false',\n",
    "  'process_smileys': 'false',\n",
    "  'process_numbers': 'false',\n",
    "  'process_escaped_chars': 'false'\n",
    "    }\n",
    "\n",
    "response = requests.post(url, headers=headers, json=tweet)\n",
    "\n",
    "response.json()"
   ]
  },
  {
   "cell_type": "code",
   "execution_count": 4,
   "metadata": {},
   "outputs": [
    {
     "data": {
      "text/plain": [
       "{'tweet': 'jajajaja #ridicula no te vota nadie gorda sucia 🤮 https://t.co/example',\n",
       " 'tweet_': 'jajajaja $HASHTAG$ no te vota nadie gorda sucia :face_vomiting: $URL$',\n",
       " 'score': 0.9960918426513672,\n",
       " 'label': 'misogynistic',\n",
       " 'value': True,\n",
       " 'elapsed_time': '0.0684 segs'}"
      ]
     },
     "execution_count": 4,
     "metadata": {},
     "output_type": "execute_result"
    }
   ],
   "source": [
    "# Spanish example\n",
    "tweet = {\n",
    "  'tweet': 'jajajaja #ridicula no te vota nadie gorda sucia 🤮 https://t.co/example',\n",
    "  'use_lower': 'false',\n",
    "  'demojize': 'true',\n",
    "  'process_urls': 'true',\n",
    "  'process_mentions': 'true',\n",
    "  'process_hashtags': 'true',\n",
    "  'process_emojis': 'false',\n",
    "  'process_smileys': 'false',\n",
    "  'process_numbers': 'false',\n",
    "  'process_escaped_chars': 'false'\n",
    "    }\n",
    "\n",
    "response = requests.post(url, headers=headers, json=tweet)\n",
    "\n",
    "response.json()"
   ]
  },
  {
   "cell_type": "markdown",
   "metadata": {},
   "source": [
    "# Classifying files"
   ]
  },
  {
   "cell_type": "code",
   "execution_count": 8,
   "metadata": {},
   "outputs": [
    {
     "data": {
      "text/plain": [
       "{'results': [{'tweet': '@user1 @user2 Claro que no, que pregunta tan pendeja.🤣🤣🤣',\n",
       "   'tweet_': '$MENTION$ $MENTION$ Claro que no, que pregunta tan pendeja.:rolling_on_the_floor_laughing::rolling_on_the_floor_laughing::rolling_on_the_floor_laughing:',\n",
       "   'score': 0.9985110759735107,\n",
       "   'label': 'no_evidence',\n",
       "   'value': False},\n",
       "  {'tweet': '@user1 Esta burra no sabe ni leer',\n",
       "   'tweet_': '$MENTION$ Esta burra no sabe ni leer',\n",
       "   'score': 0.9955783486366272,\n",
       "   'label': 'misogynistic',\n",
       "   'value': True},\n",
       "  {'tweet': 'Asquerosa y lamentable nuestra representación en el extranjero',\n",
       "   'tweet_': 'Asquerosa y lamentable nuestra representación en el extranjero',\n",
       "   'score': 0.9944815635681152,\n",
       "   'label': 'no_evidence',\n",
       "   'value': False},\n",
       "  {'tweet': 'Se está haciendo de la vista gorda',\n",
       "   'tweet_': 'Se está haciendo de la vista gorda',\n",
       "   'score': 0.9848679900169373,\n",
       "   'label': 'no_evidence',\n",
       "   'value': False},\n",
       "  {'tweet': '@user1 a vos te falta coger amargada 😜',\n",
       "   'tweet_': '$MENTION$ a vos te falta coger amargada :winking_face_with_tongue:',\n",
       "   'score': 0.9963870048522949,\n",
       "   'label': 'misogynistic',\n",
       "   'value': True}],\n",
       " 'elapsed_time': '0.3118 segs'}"
      ]
     },
     "execution_count": 8,
     "metadata": {},
     "output_type": "execute_result"
    }
   ],
   "source": [
    "# File with Spanish examples\n",
    "url_file = 'https://turing.iimas.unam.mx/pmdm/api/classify_file'\n",
    "\n",
    "headers = {'access-token': '9e7bbb18-7581-4152-ad41-859d0683670c'}\n",
    "\n",
    "files = {'uploaded_file': open('text.txt', 'rb')}\n",
    "\n",
    "# Tweet parameters are required\n",
    "data = {'use_lower': 'false', 'demojize': 'true', 'process_urls':'true', 'process_mentions': 'true', 'process_hashtags': 'true', 'process_emojis': 'false', 'process_smileys': 'false', 'process_numbers': 'false', 'process_escaped_chars': 'false'}\n",
    "\n",
    "response_file = requests.post(url_file, headers=headers, files=files, data=data)\n",
    "\n",
    "response_file.json()"
   ]
  },
  {
   "cell_type": "markdown",
   "metadata": {},
   "source": [
    "# Testing multilingual feature"
   ]
  },
  {
   "cell_type": "code",
   "execution_count": 9,
   "metadata": {},
   "outputs": [
    {
     "data": {
      "text/plain": [
       "{'results': [{'tweet': \"You don't want a bf you're a whore\",\n",
       "   'tweet_': \"You don't want a bf you're a whore\",\n",
       "   'score': 0.9511969685554504,\n",
       "   'label': 'misogynistic',\n",
       "   'value': True},\n",
       "  {'tweet': 'Além de feia você é uma péssima repórter',\n",
       "   'tweet_': 'Além de feia você é uma péssima repórter',\n",
       "   'score': 0.9958012700080872,\n",
       "   'label': 'misogynistic',\n",
       "   'value': True},\n",
       "  {'tweet': '\"Tu es une putain, tu montres tout\"',\n",
       "   'tweet_': '\"Tu es une putain, tu montres tout\"',\n",
       "   'score': 0.995628297328949,\n",
       "   'label': 'misogynistic',\n",
       "   'value': True},\n",
       "  {'tweet': 'Questa donna è sporca e nera come la pece',\n",
       "   'tweet_': 'Questa donna è sporca e nera come la pece',\n",
       "   'score': 0.995668351650238,\n",
       "   'label': 'misogynistic',\n",
       "   'value': True}],\n",
       " 'elapsed_time': '0.2539 segs'}"
      ]
     },
     "execution_count": 9,
     "metadata": {},
     "output_type": "execute_result"
    }
   ],
   "source": [
    "# File with examples in English, Portuguese, French and Italian\n",
    "files = {'uploaded_file': open('multilingual.csv', 'rb')}\n",
    "\n",
    "data = {'use_lower': 'false', 'demojize': 'true', 'process_urls':'true', 'process_mentions': 'true', 'process_hashtags': 'true', 'process_emojis': 'false', 'process_smileys': 'false', 'process_numbers': 'false', 'process_escaped_chars': 'false'}\n",
    "\n",
    "response_file = requests.post(url_file, headers=headers, files=files, data=data)\n",
    "\n",
    "response_file.json()"
   ]
  }
 ],
 "metadata": {
  "kernelspec": {
   "display_name": "Python 3",
   "language": "python",
   "name": "python3"
  },
  "language_info": {
   "codemirror_mode": {
    "name": "ipython",
    "version": 3
   },
   "file_extension": ".py",
   "mimetype": "text/x-python",
   "name": "python",
   "nbconvert_exporter": "python",
   "pygments_lexer": "ipython3",
   "version": "3.8.10"
  }
 },
 "nbformat": 4,
 "nbformat_minor": 4
}
